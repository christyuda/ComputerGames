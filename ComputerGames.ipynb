{
  "nbformat": 4,
  "nbformat_minor": 0,
  "metadata": {
    "colab": {
      "provenance": [],
      "authorship_tag": "ABX9TyO+zgBM8bnyMReNDqXi62/R",
      "include_colab_link": true
    },
    "kernelspec": {
      "name": "python3",
      "display_name": "Python 3"
    },
    "language_info": {
      "name": "python"
    }
  },
  "cells": [
    {
      "cell_type": "markdown",
      "metadata": {
        "id": "view-in-github",
        "colab_type": "text"
      },
      "source": [
        "<a href=\"https://colab.research.google.com/github/christyuda/ComputerGames/blob/main/ComputerGames.ipynb\" target=\"_parent\"><img src=\"https://colab.research.google.com/assets/colab-badge.svg\" alt=\"Open In Colab\"/></a>"
      ]
    },
    {
      "cell_type": "code",
      "execution_count": null,
      "metadata": {
        "id": "ZGSCiIqulEwh"
      },
      "outputs": [],
      "source": [
        "import pandas as pd\n",
        "df = pd.read_csv(\"computer_games.csv\")\n",
        "\n",
        "import sklearn\n",
        "from sklearn import datasets\n",
        "iris = datasets.load_iris()"
      ]
    },
    {
      "cell_type": "code",
      "source": [
        "df.columns"
      ],
      "metadata": {
        "colab": {
          "base_uri": "https://localhost:8080/"
        },
        "id": "LX6cSPrhlpfW",
        "outputId": "02fae162-056b-4b7f-d042-fbfafb3adfef"
      },
      "execution_count": null,
      "outputs": [
        {
          "output_type": "execute_result",
          "data": {
            "text/plain": [
              "Index(['Name', 'Developer', 'Producer', 'Genre', 'Operating System',\n",
              "       'Date Released'],\n",
              "      dtype='object')"
            ]
          },
          "metadata": {},
          "execution_count": 88
        }
      ]
    },
    {
      "cell_type": "code",
      "source": [
        "df['Genre'].value_counts()"
      ],
      "metadata": {
        "colab": {
          "base_uri": "https://localhost:8080/"
        },
        "id": "7kD1kUFDlsPF",
        "outputId": "172d9e14-83a8-4847-b31d-496f7edeb233"
      },
      "execution_count": null,
      "outputs": [
        {
          "output_type": "execute_result",
          "data": {
            "text/plain": [
              "First-person shooter                                 103\n",
              "RTS                                                   48\n",
              "Action-adventure                                      42\n",
              "Sports                                                34\n",
              "Role-playing                                          33\n",
              "                                                    ... \n",
              "Tower defense, action RPG                              1\n",
              "Roguelike, indie                                       1\n",
              "Construction and management simulation, Roguelike      1\n",
              "4X                                                     1\n",
              "Adventure game                                         1\n",
              "Name: Genre, Length: 282, dtype: int64"
            ]
          },
          "metadata": {},
          "execution_count": 90
        }
      ]
    },
    {
      "cell_type": "code",
      "source": [
        "from sklearn.preprocessing import StandardScaler\n",
        "from sklearn import preprocessing\n",
        "wil = preprocessing.LabelEncoder()\n",
        "X = df.apply(wil.fit_transform)\n",
        "X"
      ],
      "metadata": {
        "colab": {
          "base_uri": "https://localhost:8080/",
          "height": 424
        },
        "id": "pPKJzbDnlxLU",
        "outputId": "9da3fc43-521e-4955-8862-159615b7810b"
      },
      "execution_count": null,
      "outputs": [
        {
          "output_type": "execute_result",
          "data": {
            "text/plain": [
              "      Name  Developer  Producer  Genre  Operating System  Date Released\n",
              "0       58         67        68     62                50            398\n",
              "1       59         35        40    263                79              2\n",
              "2       57        366        24    116                79            679\n",
              "3       60        395       237     58                50            909\n",
              "4       61        102        96     96                50             13\n",
              "...    ...        ...       ...    ...               ...            ...\n",
              "1090    28        456       134    236                50            347\n",
              "1091    29        210       210    232                 3              8\n",
              "1092    30        166       143    106                50            173\n",
              "1093    31        553       257    175                50            897\n",
              "1094    32        517       167     59                72            896\n",
              "\n",
              "[1095 rows x 6 columns]"
            ],
            "text/html": [
              "\n",
              "  <div id=\"df-be857340-085a-438f-9b2a-563397c6dd5f\">\n",
              "    <div class=\"colab-df-container\">\n",
              "      <div>\n",
              "<style scoped>\n",
              "    .dataframe tbody tr th:only-of-type {\n",
              "        vertical-align: middle;\n",
              "    }\n",
              "\n",
              "    .dataframe tbody tr th {\n",
              "        vertical-align: top;\n",
              "    }\n",
              "\n",
              "    .dataframe thead th {\n",
              "        text-align: right;\n",
              "    }\n",
              "</style>\n",
              "<table border=\"1\" class=\"dataframe\">\n",
              "  <thead>\n",
              "    <tr style=\"text-align: right;\">\n",
              "      <th></th>\n",
              "      <th>Name</th>\n",
              "      <th>Developer</th>\n",
              "      <th>Producer</th>\n",
              "      <th>Genre</th>\n",
              "      <th>Operating System</th>\n",
              "      <th>Date Released</th>\n",
              "    </tr>\n",
              "  </thead>\n",
              "  <tbody>\n",
              "    <tr>\n",
              "      <th>0</th>\n",
              "      <td>58</td>\n",
              "      <td>67</td>\n",
              "      <td>68</td>\n",
              "      <td>62</td>\n",
              "      <td>50</td>\n",
              "      <td>398</td>\n",
              "    </tr>\n",
              "    <tr>\n",
              "      <th>1</th>\n",
              "      <td>59</td>\n",
              "      <td>35</td>\n",
              "      <td>40</td>\n",
              "      <td>263</td>\n",
              "      <td>79</td>\n",
              "      <td>2</td>\n",
              "    </tr>\n",
              "    <tr>\n",
              "      <th>2</th>\n",
              "      <td>57</td>\n",
              "      <td>366</td>\n",
              "      <td>24</td>\n",
              "      <td>116</td>\n",
              "      <td>79</td>\n",
              "      <td>679</td>\n",
              "    </tr>\n",
              "    <tr>\n",
              "      <th>3</th>\n",
              "      <td>60</td>\n",
              "      <td>395</td>\n",
              "      <td>237</td>\n",
              "      <td>58</td>\n",
              "      <td>50</td>\n",
              "      <td>909</td>\n",
              "    </tr>\n",
              "    <tr>\n",
              "      <th>4</th>\n",
              "      <td>61</td>\n",
              "      <td>102</td>\n",
              "      <td>96</td>\n",
              "      <td>96</td>\n",
              "      <td>50</td>\n",
              "      <td>13</td>\n",
              "    </tr>\n",
              "    <tr>\n",
              "      <th>...</th>\n",
              "      <td>...</td>\n",
              "      <td>...</td>\n",
              "      <td>...</td>\n",
              "      <td>...</td>\n",
              "      <td>...</td>\n",
              "      <td>...</td>\n",
              "    </tr>\n",
              "    <tr>\n",
              "      <th>1090</th>\n",
              "      <td>28</td>\n",
              "      <td>456</td>\n",
              "      <td>134</td>\n",
              "      <td>236</td>\n",
              "      <td>50</td>\n",
              "      <td>347</td>\n",
              "    </tr>\n",
              "    <tr>\n",
              "      <th>1091</th>\n",
              "      <td>29</td>\n",
              "      <td>210</td>\n",
              "      <td>210</td>\n",
              "      <td>232</td>\n",
              "      <td>3</td>\n",
              "      <td>8</td>\n",
              "    </tr>\n",
              "    <tr>\n",
              "      <th>1092</th>\n",
              "      <td>30</td>\n",
              "      <td>166</td>\n",
              "      <td>143</td>\n",
              "      <td>106</td>\n",
              "      <td>50</td>\n",
              "      <td>173</td>\n",
              "    </tr>\n",
              "    <tr>\n",
              "      <th>1093</th>\n",
              "      <td>31</td>\n",
              "      <td>553</td>\n",
              "      <td>257</td>\n",
              "      <td>175</td>\n",
              "      <td>50</td>\n",
              "      <td>897</td>\n",
              "    </tr>\n",
              "    <tr>\n",
              "      <th>1094</th>\n",
              "      <td>32</td>\n",
              "      <td>517</td>\n",
              "      <td>167</td>\n",
              "      <td>59</td>\n",
              "      <td>72</td>\n",
              "      <td>896</td>\n",
              "    </tr>\n",
              "  </tbody>\n",
              "</table>\n",
              "<p>1095 rows × 6 columns</p>\n",
              "</div>\n",
              "      <button class=\"colab-df-convert\" onclick=\"convertToInteractive('df-be857340-085a-438f-9b2a-563397c6dd5f')\"\n",
              "              title=\"Convert this dataframe to an interactive table.\"\n",
              "              style=\"display:none;\">\n",
              "        \n",
              "  <svg xmlns=\"http://www.w3.org/2000/svg\" height=\"24px\"viewBox=\"0 0 24 24\"\n",
              "       width=\"24px\">\n",
              "    <path d=\"M0 0h24v24H0V0z\" fill=\"none\"/>\n",
              "    <path d=\"M18.56 5.44l.94 2.06.94-2.06 2.06-.94-2.06-.94-.94-2.06-.94 2.06-2.06.94zm-11 1L8.5 8.5l.94-2.06 2.06-.94-2.06-.94L8.5 2.5l-.94 2.06-2.06.94zm10 10l.94 2.06.94-2.06 2.06-.94-2.06-.94-.94-2.06-.94 2.06-2.06.94z\"/><path d=\"M17.41 7.96l-1.37-1.37c-.4-.4-.92-.59-1.43-.59-.52 0-1.04.2-1.43.59L10.3 9.45l-7.72 7.72c-.78.78-.78 2.05 0 2.83L4 21.41c.39.39.9.59 1.41.59.51 0 1.02-.2 1.41-.59l7.78-7.78 2.81-2.81c.8-.78.8-2.07 0-2.86zM5.41 20L4 18.59l7.72-7.72 1.47 1.35L5.41 20z\"/>\n",
              "  </svg>\n",
              "      </button>\n",
              "      \n",
              "  <style>\n",
              "    .colab-df-container {\n",
              "      display:flex;\n",
              "      flex-wrap:wrap;\n",
              "      gap: 12px;\n",
              "    }\n",
              "\n",
              "    .colab-df-convert {\n",
              "      background-color: #E8F0FE;\n",
              "      border: none;\n",
              "      border-radius: 50%;\n",
              "      cursor: pointer;\n",
              "      display: none;\n",
              "      fill: #1967D2;\n",
              "      height: 32px;\n",
              "      padding: 0 0 0 0;\n",
              "      width: 32px;\n",
              "    }\n",
              "\n",
              "    .colab-df-convert:hover {\n",
              "      background-color: #E2EBFA;\n",
              "      box-shadow: 0px 1px 2px rgba(60, 64, 67, 0.3), 0px 1px 3px 1px rgba(60, 64, 67, 0.15);\n",
              "      fill: #174EA6;\n",
              "    }\n",
              "\n",
              "    [theme=dark] .colab-df-convert {\n",
              "      background-color: #3B4455;\n",
              "      fill: #D2E3FC;\n",
              "    }\n",
              "\n",
              "    [theme=dark] .colab-df-convert:hover {\n",
              "      background-color: #434B5C;\n",
              "      box-shadow: 0px 1px 3px 1px rgba(0, 0, 0, 0.15);\n",
              "      filter: drop-shadow(0px 1px 2px rgba(0, 0, 0, 0.3));\n",
              "      fill: #FFFFFF;\n",
              "    }\n",
              "  </style>\n",
              "\n",
              "      <script>\n",
              "        const buttonEl =\n",
              "          document.querySelector('#df-be857340-085a-438f-9b2a-563397c6dd5f button.colab-df-convert');\n",
              "        buttonEl.style.display =\n",
              "          google.colab.kernel.accessAllowed ? 'block' : 'none';\n",
              "\n",
              "        async function convertToInteractive(key) {\n",
              "          const element = document.querySelector('#df-be857340-085a-438f-9b2a-563397c6dd5f');\n",
              "          const dataTable =\n",
              "            await google.colab.kernel.invokeFunction('convertToInteractive',\n",
              "                                                     [key], {});\n",
              "          if (!dataTable) return;\n",
              "\n",
              "          const docLinkHtml = 'Like what you see? Visit the ' +\n",
              "            '<a target=\"_blank\" href=https://colab.research.google.com/notebooks/data_table.ipynb>data table notebook</a>'\n",
              "            + ' to learn more about interactive tables.';\n",
              "          element.innerHTML = '';\n",
              "          dataTable['output_type'] = 'display_data';\n",
              "          await google.colab.output.renderOutput(dataTable, element);\n",
              "          const docLink = document.createElement('div');\n",
              "          docLink.innerHTML = docLinkHtml;\n",
              "          element.appendChild(docLink);\n",
              "        }\n",
              "      </script>\n",
              "    </div>\n",
              "  </div>\n",
              "  "
            ]
          },
          "metadata": {},
          "execution_count": 91
        }
      ]
    },
    {
      "cell_type": "code",
      "source": [
        "y1 = X[['Genre']].values\n"
      ],
      "metadata": {
        "id": "zFjaoJpAl04C"
      },
      "execution_count": null,
      "outputs": []
    },
    {
      "cell_type": "code",
      "source": [
        "x1 = X[['Name','Developer','Producer','Operating System']]\n"
      ],
      "metadata": {
        "id": "7IqUjPirl6ys"
      },
      "execution_count": null,
      "outputs": []
    },
    {
      "cell_type": "code",
      "source": [
        "y1[0:5]"
      ],
      "metadata": {
        "id": "4ka_DVJ5Cizn",
        "colab": {
          "base_uri": "https://localhost:8080/"
        },
        "outputId": "a5a3705a-1bf8-40cb-8350-b6d9263122ed"
      },
      "execution_count": null,
      "outputs": [
        {
          "output_type": "execute_result",
          "data": {
            "text/plain": [
              "array([[ 62],\n",
              "       [263],\n",
              "       [116],\n",
              "       [ 58],\n",
              "       [ 96]])"
            ]
          },
          "metadata": {},
          "execution_count": 99
        }
      ]
    },
    {
      "cell_type": "code",
      "source": [
        "from sklearn.model_selection import train_test_split \n",
        "X_train, X_test, Y_train, Y_test = train_test_split(x1, y1, test_size=0.1, random_state=0)\n",
        "print ('Train set:', X_train.shape, Y_train.shape)\n",
        "print ('Test set:', X_test.shape, Y_test.shape)"
      ],
      "metadata": {
        "id": "oJQbOoZXCkVz",
        "colab": {
          "base_uri": "https://localhost:8080/"
        },
        "outputId": "fa4fd00e-f882-4da4-b44c-a208d9e9f3cd"
      },
      "execution_count": null,
      "outputs": [
        {
          "output_type": "stream",
          "name": "stdout",
          "text": [
            "Train set: (985, 3) (985, 1)\n",
            "Test set: (110, 3) (110, 1)\n"
          ]
        }
      ]
    },
    {
      "cell_type": "code",
      "source": [
        "\n",
        "from sklearn.svm import SVC\n",
        "from sklearn.svm import SVC\n",
        "model = SVC(kernel='rbf', gamma='auto')\n",
        "model.fit(X_train,Y_train)\n",
        "Hasil_prediksi=model.predict(X_test)\n"
      ],
      "metadata": {
        "id": "Z-zib_IjDtYJ",
        "colab": {
          "base_uri": "https://localhost:8080/"
        },
        "outputId": "5e47d1fa-fd84-4b4e-b1d5-887b343a6b42"
      },
      "execution_count": null,
      "outputs": [
        {
          "output_type": "stream",
          "name": "stderr",
          "text": [
            "/usr/local/lib/python3.7/dist-packages/sklearn/utils/validation.py:993: DataConversionWarning: A column-vector y was passed when a 1d array was expected. Please change the shape of y to (n_samples, ), for example using ravel().\n",
            "  y = column_or_1d(y, warn=True)\n"
          ]
        }
      ]
    },
    {
      "cell_type": "code",
      "source": [
        "from sklearn.metrics import accuracy_score,confusion_matrix,precision_score,f1_score,recall_score\n",
        "print(\"accuracy score:\",(accuracy_score(Hasil_prediksi,Y_test)*100,\"%\"))"
      ],
      "metadata": {
        "id": "rjEKHx-nFDrp",
        "colab": {
          "base_uri": "https://localhost:8080/"
        },
        "outputId": "d7f9d8f5-a7b4-48bd-8fd6-ed92cc677c08"
      },
      "execution_count": null,
      "outputs": [
        {
          "output_type": "stream",
          "name": "stdout",
          "text": [
            "accuracy score: (24.545454545454547, '%')\n"
          ]
        }
      ]
    }
  ]
}